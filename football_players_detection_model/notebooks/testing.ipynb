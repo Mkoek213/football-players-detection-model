{
 "cells": [
  {
   "cell_type": "code",
   "execution_count": 2,
   "id": "699acfc2",
   "metadata": {},
   "outputs": [],
   "source": [
    "from ultralytics import YOLO"
   ]
  },
  {
   "cell_type": "code",
   "execution_count": null,
   "id": "51f15170",
   "metadata": {},
   "outputs": [],
   "source": [
    "model = YOLO(\"yolov8n.pt\")"
   ]
  },
  {
   "cell_type": "code",
   "execution_count": null,
   "id": "86e7bf2e",
   "metadata": {},
   "outputs": [],
   "source": [
    "model.save('../models/yolov8n.pt')"
   ]
  },
  {
   "cell_type": "code",
   "execution_count": null,
   "id": "0c7efe91",
   "metadata": {},
   "outputs": [],
   "source": [
    "import torch"
   ]
  },
  {
   "cell_type": "code",
   "execution_count": null,
   "id": "c33a807f",
   "metadata": {},
   "outputs": [],
   "source": [
    "model_torch = torch.load('../models/yolov8n.pt')"
   ]
  },
  {
   "cell_type": "code",
   "execution_count": null,
   "id": "18b08c42",
   "metadata": {},
   "outputs": [],
   "source": [
    "num_layers = len(list(model.modules()))\n",
    "print(f\"Total number of layers/modules: {num_layers}\")"
   ]
  },
  {
   "cell_type": "code",
   "execution_count": null,
   "id": "0004bbe3",
   "metadata": {},
   "outputs": [],
   "source": [
    "from torchinfo import summary"
   ]
  },
  {
   "cell_type": "code",
   "execution_count": null,
   "id": "154bf4c3",
   "metadata": {},
   "outputs": [],
   "source": [
    "summary(model.model, input_size=(1, 3, 640, 640))"
   ]
  },
  {
   "cell_type": "code",
   "execution_count": null,
   "id": "b506def1",
   "metadata": {},
   "outputs": [],
   "source": [
    "model\n"
   ]
  },
  {
   "cell_type": "code",
   "execution_count": null,
   "id": "2bb26d66",
   "metadata": {},
   "outputs": [],
   "source": [
    "freeze = [f\"model.{x}.\" for x in range(10)]"
   ]
  },
  {
   "cell_type": "code",
   "execution_count": null,
   "id": "27bc6dfe",
   "metadata": {},
   "outputs": [],
   "source": [
    "for k, v in model.named_parameters():\n",
    "    v.requires_grad = True  # train all layers\n",
    "    if any(x in k for x in freeze):\n",
    "        print(f\"freezing {k}\")\n",
    "        v.requires_grad = False"
   ]
  },
  {
   "cell_type": "code",
   "execution_count": null,
   "id": "98bce2a3",
   "metadata": {},
   "outputs": [],
   "source": [
    "for k , v in model.named_parameters():\n",
    "    print(k, v.requires_grad)"
   ]
  },
  {
   "cell_type": "code",
   "execution_count": null,
   "id": "f7a6dce9",
   "metadata": {},
   "outputs": [],
   "source": [
    "def train_model(model_path, data_path, save_path, stage, epochs=100, imgsz=640, batch_size=16, time = 44, run_dir='runs'):\n",
    "    \"\"\"\n",
    "    Train or fine-tune a YOLO model.\n",
    "\n",
    "    Parameters:\n",
    "    - model_path (str): Path to the model file.\n",
    "    - data_path (str): Path to the data configuration file.\n",
    "    - save_path (str): Path to save the trained model.\n",
    "    - stage (str): Training stage, either 'pretrain' or 'finetune'.\n",
    "    - epochs (int): Number of training epochs. Default is 100.\n",
    "    - imgsz (int): Image size for training. Default is 640.\n",
    "    - batch_size (int): Batch size for training. Default is 16.\n",
    "    \"\"\"\n",
    "\n",
    "    # Load the YOLO model\n",
    "    model = YOLO(model_path)\n",
    "\n",
    "    # Define training parameters\n",
    "    train_params = {\n",
    "        'data': data_path,\n",
    "        'epochs': epochs,\n",
    "        'imgsz': imgsz,\n",
    "        'batch': batch_size,\n",
    "        'device': 'cuda' if torch.cuda.is_available() else 'cpu',  # Use GPU if available\n",
    "        'plots': True,\n",
    "        'time': time,\n",
    "        'patience': 100,\n",
    "        'project': run_dir  # Specify the directory for storing runs\n",
    "    }\n",
    "\n",
    "    if stage == 'pretrain':\n",
    "        # Start pre-training\n",
    "        print(\"Starting pre-training...\")\n",
    "        results = model.train(**train_params)\n",
    "        # Save the pre-trained model\n",
    "        model.save(save_path)\n",
    "    elif stage == 'finetune':\n",
    "        # Start fine-tuning\n",
    "        print(\"Starting fine-tuning...\")\n",
    "        results = model.train(**train_params)\n",
    "        # Save the fine-tuned model\n",
    "        model.save(save_path)\n",
    "\n",
    "    # Print training results\n",
    "    print(results)\n",
    "\n",
    "# Pre-training stage:\n",
    "# Uncomment the block below for the pre-training stage\n",
    "# if __name__ == \"__main__\":\n",
    "#     stage = 'pretrain'  # Specify 'pretrain' for the pre-training stage\n",
    "#     train_model(\n",
    "#         model_path='Models/yolov8n.pt',  # Path to the initial YOLO model\n",
    "#         data_path='data.yaml',  # Path to the data configuration file for pre-training\n",
    "#         save_path='Models/pre_trained_yolov8s.pt',  # Path to save the pre-trained model\n",
    "#         stage=stage,  # Specify the stage: 'pretrain' or 'finetune'\n",
    "#         epochs=100  # Number of training epochs for pre-training\n",
    "#     )\n",
    "\n",
    "# Fine-tuning stage:\n"
   ]
  },
  {
   "cell_type": "code",
   "execution_count": 3,
   "id": "5738edc6",
   "metadata": {},
   "outputs": [],
   "source": [
    "import supervision as sv"
   ]
  },
  {
   "cell_type": "code",
   "execution_count": 4,
   "id": "f90fd2c0",
   "metadata": {},
   "outputs": [],
   "source": [
    "COLORS = ['#FF1493', '#00BFFF', '#FF6347', '#FFD700']"
   ]
  },
  {
   "cell_type": "code",
   "execution_count": 5,
   "id": "489bcf9a",
   "metadata": {},
   "outputs": [],
   "source": [
    "BOX_ANNOTATOR = sv.BoxAnnotator(\n",
    "    color=sv.ColorPalette.from_hex(COLORS),\n",
    "    thickness=2\n",
    ")"
   ]
  },
  {
   "cell_type": "code",
   "execution_count": 6,
   "id": "cc9f22ec",
   "metadata": {},
   "outputs": [],
   "source": [
    "BOX_LABEL_ANNOTATOR = sv.LabelAnnotator(\n",
    "    color=sv.ColorPalette.from_hex(COLORS),\n",
    "    text_color=sv.Color.from_hex('#FFFFFF'),\n",
    "    text_padding=5,\n",
    "    text_thickness=1,\n",
    ")"
   ]
  },
  {
   "cell_type": "code",
   "execution_count": 7,
   "id": "f147e963",
   "metadata": {},
   "outputs": [],
   "source": [
    "from typing import Iterator, List"
   ]
  },
  {
   "cell_type": "code",
   "execution_count": 8,
   "id": "b3bff34b",
   "metadata": {},
   "outputs": [],
   "source": [
    "import numpy as np"
   ]
  },
  {
   "cell_type": "code",
   "execution_count": 9,
   "id": "4abcf23f",
   "metadata": {},
   "outputs": [],
   "source": [
    "import cv2"
   ]
  },
  {
   "cell_type": "markdown",
   "id": "76443d92",
   "metadata": {},
   "source": [
    "## Player detection"
   ]
  },
  {
   "cell_type": "code",
   "execution_count": 26,
   "id": "36f8abc2",
   "metadata": {},
   "outputs": [],
   "source": [
    "def run_player_detection(source_video_path: str) -> Iterator[np.ndarray]:\n",
    "    \"\"\"\n",
    "    Run player detection on a video and yield annotated frames.\n",
    "\n",
    "    Args:\n",
    "        source_video_path (str): Path to the source video.\n",
    "\n",
    "    Yields:\n",
    "        Iterator[np.ndarray]: Iterator over annotated frames.\n",
    "    \"\"\"\n",
    "    player_detection_model = YOLO(\"../models/yolov8n_transfer_road_model.pt\").to(device=\"cuda\")\n",
    "    frame_generator = sv.get_video_frames_generator(source_path=source_video_path)\n",
    "    for frame in frame_generator:\n",
    "        result = player_detection_model(frame, imgsz=1280, verbose=False)[0]\n",
    "        detections = sv.Detections.from_ultralytics(result)\n",
    "\n",
    "        annotated_frame = frame.copy()\n",
    "        annotated_frame = BOX_ANNOTATOR.annotate(annotated_frame, detections)\n",
    "        annotated_frame = BOX_LABEL_ANNOTATOR.annotate(annotated_frame, detections)\n",
    "        yield annotated_frame"
   ]
  },
  {
   "cell_type": "code",
   "execution_count": 27,
   "id": "66bbad2e",
   "metadata": {},
   "outputs": [],
   "source": [
    "frame_generator = run_player_detection(\n",
    "            source_video_path=\"../test_videos/test_video2.mp4\")"
   ]
  },
  {
   "cell_type": "code",
   "execution_count": 28,
   "id": "a5c17f75",
   "metadata": {},
   "outputs": [
    {
     "name": "stderr",
     "output_type": "stream",
     "text": [
      "[ WARN:0@1122.334] global cap.cpp:643 open VIDEOIO(CV_IMAGES): raised OpenCV exception:\n",
      "\n",
      "OpenCV(4.10.0) /io/opencv/modules/videoio/src/cap_images.cpp:430: error: (-215:Assertion failed) !filename_pattern.empty() in function 'open'\n",
      "\n",
      "\n"
     ]
    }
   ],
   "source": [
    "video_info = sv.VideoInfo.from_video_path(\"../test_videos/test_video2.mp4\")\n",
    "with sv.VideoSink(\"result\", video_info) as sink:\n",
    "    for frame in frame_generator:\n",
    "        sink.write_frame(frame)\n",
    "\n",
    "        cv2.imshow(\"frame\", frame)\n",
    "        if cv2.waitKey(1) & 0xFF == ord(\"q\"):\n",
    "            break\n",
    "        \n",
    "    cv2.destroyAllWindows()"
   ]
  },
  {
   "cell_type": "code",
   "execution_count": 31,
   "id": "363a8b0e",
   "metadata": {},
   "outputs": [
    {
     "name": "stderr",
     "output_type": "stream",
     "text": [
      "[ WARN:0@1201.630] global cap.cpp:643 open VIDEOIO(CV_IMAGES): raised OpenCV exception:\n",
      "\n",
      "OpenCV(4.10.0) /io/opencv/modules/videoio/src/cap_images.cpp:430: error: (-215:Assertion failed) !filename_pattern.empty() in function 'open'\n",
      "\n",
      "\n"
     ]
    }
   ],
   "source": [
    "import cv2\n",
    "import numpy as np\n",
    "from typing import Iterator\n",
    "from ultralytics import YOLO\n",
    "\n",
    "def run_player_detection(source_video_path: str) -> Iterator[np.ndarray]:\n",
    "    \"\"\"\n",
    "    Run player detection on a video and yield annotated frames.\n",
    "\n",
    "    Args:\n",
    "        source_video_path (str): Path to the source video.\n",
    "\n",
    "    Yields:\n",
    "        Iterator[np.ndarray]: Iterator over annotated frames.\n",
    "    \"\"\"\n",
    "    # Load YOLO model\n",
    "    player_detection_model = YOLO(\"../models/yolov8n_transfer_based_model.pt\").to(device=\"cuda\")\n",
    "    \n",
    "    # Open the video file using OpenCV\n",
    "    cap = cv2.VideoCapture(source_video_path)\n",
    "    \n",
    "    \n",
    "    while cap.isOpened():\n",
    "        ret, frame = cap.read()\n",
    "        if not ret:\n",
    "            break\n",
    "        frame = cv2.resize(frame, (1280, 960))\n",
    "        \n",
    "        # Run detection on the current frame\n",
    "        result = player_detection_model(frame, imgsz=1280, verbose=False)[0]\n",
    "        detections = sv.Detections.from_ultralytics(result)\n",
    "\n",
    "        # Annotate the frame\n",
    "        annotated_frame = frame.copy()\n",
    "        annotated_frame = BOX_ANNOTATOR.annotate(annotated_frame, detections)\n",
    "        annotated_frame = BOX_LABEL_ANNOTATOR.annotate(annotated_frame, detections)\n",
    "        \n",
    "        # Yield the annotated frame\n",
    "        yield annotated_frame\n",
    "\n",
    "    cap.release()\n",
    "\n",
    "# Example usage of the generator\n",
    "frame_generator = run_player_detection(source_video_path=\"../test_videos/test_video2.mp4\")\n",
    "\n",
    "video_info = sv.VideoInfo.from_video_path(\"../test_videos/test_video2.mp4\")\n",
    "with sv.VideoSink(\"result\", video_info) as sink:\n",
    "    for frame in frame_generator:\n",
    "        sink.write_frame(frame)\n",
    "\n",
    "        cv2.imshow(\"frame\", frame)\n",
    "        if cv2.waitKey(1) & 0xFF == ord(\"q\"):\n",
    "            break\n",
    "        \n",
    "    cv2.destroyAllWindows()\n"
   ]
  },
  {
   "cell_type": "code",
   "execution_count": null,
   "id": "66a7bc16",
   "metadata": {},
   "outputs": [],
   "source": []
  }
 ],
 "metadata": {
  "kernelspec": {
   "display_name": "football-players-detection-model-py3.10",
   "language": "python",
   "name": "football-players-detection-model-py3.10"
  },
  "language_info": {
   "codemirror_mode": {
    "name": "ipython",
    "version": 3
   },
   "file_extension": ".py",
   "mimetype": "text/x-python",
   "name": "python",
   "nbconvert_exporter": "python",
   "pygments_lexer": "ipython3",
   "version": "3.10.12"
  }
 },
 "nbformat": 4,
 "nbformat_minor": 5
}
